{
 "cells": [
  {
   "cell_type": "code",
   "execution_count": 39,
   "source": [
    "import numpy as np\n",
    "from scipy import signal\n",
    "import scipy.spatial.distance as distfuncs\n",
    "import scipy.special as special\n",
    "import scipy.signal as signal\n",
    "import scipy.io.wavfile as wf\n",
    "import matplotlib.pyplot as plt\n",
    "import matplotlib.animation as animation\n",
    "from pathlib import Path\n",
    "from tqdm import tqdm\n",
    "\n",
    "# test\n",
    "import sys\n",
    "sys.path.append('../')\n",
    "import irutilities as irutil\n",
    "import sf_func as sf"
   ],
   "outputs": [],
   "metadata": {}
  },
  {
   "cell_type": "code",
   "execution_count": 40,
   "source": [
    "# Load ir data\n",
    "sessionName = \"S1-M3969_npy\"\n",
    "sessionPath = Path('..').joinpath(sessionName)\n",
    "posAll, posSrc, irAll = irutil.loadIR(sessionPath)\n",
    "\n",
    "# Sampling rate (original)\n",
    "samplerate_raw = 48000"
   ],
   "outputs": [],
   "metadata": {}
  },
  {
   "cell_type": "code",
   "execution_count": 41,
   "source": [
    "# Microphone selection by the method proposed in\n",
    "# Nishida, Ueno, Koyama, and Saruwatari, Proc. EUSIPCO, DOI: 10.23919/Eusipco47968.2020.9287222, 2020.\n",
    "numMic = 18  # Number of mics\n",
    "idxMic_all = np.load('mic_idx.npy')\n",
    "idxMic_sel = idxMic_all[0:numMic]\n",
    "\n",
    "# Evaluation points\n",
    "idxEval = np.where(np.isclose(posAll[:,2], 0.0))[0]  # xy-plane at z=0\n",
    "numEval = idxEval.shape[0]\n",
    "posEval = posAll[idxEval,:]\n",
    "\n",
    "posEvalX = np.unique(posEval[:,0].round(4))\n",
    "posEvalY = np.unique(posEval[:,1].round(4))\n",
    "posEvalZ = np.unique(posEval[:,2].round(4))\n",
    "numEvalXYZ = (posEvalX.shape[0], posEvalY.shape[0], posEvalZ.shape[0])\n",
    "\n",
    "# Microphone positions\n",
    "idxMic = []\n",
    "for i in range(numMic):\n",
    "    idx = np.where(np.isclose(idxEval, idxMic_sel[i]))[0]\n",
    "    idxMic.append(idx[0])\n",
    "\n",
    "posMic = posEval[idxMic,:]\n",
    "\n",
    "idxMicXY = []\n",
    "for i in range(numMic):\n",
    "    idxX = np.where(np.isclose(posEvalX, posMic[i,0]))[0]\n",
    "    idxY = np.where(np.isclose(posEvalY, posMic[i,1]))[0]\n",
    "    idxMicXY.append([idxX[0], idxY[0]])\n",
    "idxMicXY = np.array(idxMicXY)\n",
    "\n",
    "# Plot geometry\n",
    "plt.rcParams[\"font.size\"] = 14\n",
    "\n",
    "fig, ax = plt.subplots()\n",
    "ax.scatter(posEval[:,0], posEval[:,1], marker='.', color='c')\n",
    "ax.scatter(posMic[:,0], posMic[:,1], marker='o', color='b')\n",
    "ax.scatter(posSrc[:,0], posSrc[:,1], marker='*', color='r')\n",
    "ax.set_aspect('equal')\n",
    "plt.xlabel('x (m)')\n",
    "plt.ylabel('y (m)')\n",
    "plt.show()"
   ],
   "outputs": [
    {
     "output_type": "display_data",
     "data": {
      "image/png": "[encoded data removed]",
      "text/plain": [
       "<Figure size 432x288 with 1 Axes>"
      ]
     },
     "metadata": {
      "needs_background": "light"
     }
    }
   ],
   "metadata": {
    "tags": []
   }
  },
  {
   "cell_type": "code",
   "execution_count": 42,
   "source": [
    "# Load wav file whose channels is supposed to be 1\n",
    "data_rate, data = wf.read('../jsut_ver1.1/travel1000/wav/TRAVEL1000_0001.wav')\n",
    "assert(data_rate == samplerate_raw)\n",
    "print(data.shape)\n",
    "print(irAll.shape)\n",
    "\n",
    "data = data / 32767.0\n",
    "irAll = signal.fftconvolve(irAll, data[None, None, :], axes=2)\n",
    "_max_val = max(np.absolute(irAll[0, 0, :]))\n",
    "_saved = (irAll[0, 0, :] * 32767 / _max_val).astype(np.int16)\n",
    "wf.write('./output/music1.wav', data_rate, _saved)"
   ],
   "outputs": [
    {
     "output_type": "stream",
     "name": "stdout",
     "text": [
      "(170400,)\n",
      "(1, 3969, 32768)\n"
     ]
    }
   ],
   "metadata": {}
  },
  {
   "cell_type": "code",
   "execution_count": 43,
   "source": [
    "# IRs for evaluation\n",
    "irEval = irAll[0,idxEval,:]\n",
    "\n",
    "# Downdsampling\n",
    "downSampling = 6\n",
    "irEval = signal.resample_poly(irEval, up=1, down=downSampling, axis=-1)\n",
    "samplerate = samplerate_raw // downSampling\n",
    "print('samplerate (Hz): ', samplerate)\n",
    "\n",
    "# IR length\n",
    "irLen = irEval.shape[1]\n",
    "print('ir length:', irLen)\n",
    "\n",
    "# Evaluation signal\n",
    "maxFreq = 1500\n",
    "h = signal.firwin(numtaps=64, cutoff=maxFreq, fs=samplerate) # 長さ64のローパスフィルタ\n",
    "sigEval = signal.filtfilt(h, 1, irEval, axis=-1) # hをかける\n",
    "# sigEval = irEval\n",
    "\n",
    "# Observed signal at microphones\n",
    "# sigMic = sigEval[idxMic,:]\n",
    "\n",
    "# # Time \n",
    "# sigLen = sigEval.shape[1]\n",
    "# t = np.arange(sigLen)/samplerate\n",
    "\n",
    "# # Draw pressure distribution\n",
    "xx, yy = np.meshgrid(posEvalX, posEvalY)\n",
    "\n",
    "# posEvalXY, sigEvalXY, _ = irutil.sortIR3(posEval, sigEval[None,:,:], numEvalXYZ, posEvalX, posEvalY, posEvalZ)\n",
    "# sigEvalXY = np.squeeze(sigEvalXY)\n",
    "\n",
    "# tIdx = 1422\n",
    "\n",
    "# fig, ax = plt.subplots()\n",
    "# ax = plt.axes()\n",
    "# color = plt.pcolor(xx, yy, sigEvalXY[:,:,tIdx], cmap='RdBu', shading='auto', vmin=-0.025, vmax=0.025)\n",
    "# ax.scatter(posMic[:,0], posMic[:,1], s=30, marker='o', color='w')\n",
    "# ax.scatter(posMic[:,0], posMic[:,1], s=20, marker='o', color='k')\n",
    "# ax.set_aspect('equal')\n",
    "# cbar=plt.colorbar(color)\n",
    "# cbar.set_label('Amplitude')\n",
    "# plt.xlabel('x (m)')\n",
    "# plt.ylabel('y (m)')\n",
    "# plt.show()\n"
   ],
   "outputs": [
    {
     "output_type": "stream",
     "name": "stdout",
     "text": [
      "samplerate (Hz):  8000\n",
      "ir length: 33862\n"
     ]
    }
   ],
   "metadata": {}
  },
  {
   "cell_type": "code",
   "execution_count": 44,
   "source": [
    "# Sound speed (m/s)\n",
    "c = 347.3\n",
    "\n",
    "# Regularization parameter\n",
    "kerReg = 1e-1\n",
    "\n",
    "# FFT parameters\n",
    "# fftlen = 16384\n",
    "# fftlen = pow(2, int(np.ceil(np.lib.scimath.log2(irEval.shape[1]))))\n",
    "# print(fftlen)\n",
    "fftlen = 256\n",
    "\n",
    "# Filter parameters\n",
    "smplShift = 128\n",
    "filterLen = 256\n",
    "# freq = np.arange(1,fftlen/2+1)/fftlen*samplerate\n",
    "\n",
    "# for debug\n",
    "print(sigEval.shape)\n",
    "# sigEval = sigEval[:, :8000]\n",
    "\n",
    "num_frames = (sigEval.shape[1]+filterLen-1)//filterLen\n",
    "print(sigEval.shape)\n",
    "sigEval = np.pad(sigEval, ((0, 0), (0, num_frames * filterLen - sigEval.shape[1])), 'constant')\n",
    "posEvalXY, sigEvalXY, _ = irutil.sortIR3(posEval, sigEval[None,:,:], numEvalXYZ, posEvalX, posEvalY, posEvalZ)\n",
    "sigEvalXY = np.squeeze(sigEvalXY)\n",
    "print(sigEval.shape)\n",
    "\n",
    "sigMic = sigEval[idxMic,:]\n",
    "fig, ax = plt.subplots()\n",
    "ax.plot(sigEval[0,:])\n",
    "plt.xlabel('sig eval')\n",
    "plt.show()\n",
    "\n",
    "num_mic_est = sigEval.shape[0]\n",
    "\n",
    "# Kernel interpolation filter\n",
    "# k = 2 * np.pi * freq / c\n",
    "# kiFilter = sf.kiFilterGen(k, posMic, posEval, filterLen, smplShift)\n",
    "\n",
    "# specMic = np.fft.fft(sigMic, n=fftlen, axis=1)\n",
    "# fig, ax = plt.subplots()\n",
    "# tmp = np.sort(np.sum(np.abs(specMic[:, k.shape[0]:]), axis=0))\n",
    "# ax.plot(tmp)\n",
    "# plt.show()\n",
    "\n",
    "\n",
    "# kiFilter = sf.kiFilterGenWithOpt(k, posMic, posEval, specMic, 'l2', filterLen, smplShift)\n",
    "\n",
    "# _fs, _ts, stftSpecMic = signal.stft(sigMic, fs=samplerate, window='hamming', nperseg=256, noverlap=0)\n",
    "# print(_fs)\n",
    "# print(_ts)\n",
    "# print(stftSpecMic.shape)\n",
    "\n",
    "half_width = (filterLen + filterLen - 2) // 2\n",
    "\n",
    "sigEst = np.zeros((num_mic_est, sigEval.shape[1] + 2 * (filterLen - 1) + filterLen)) # TODO\n",
    "print(\"# of frames: \", num_frames)\n",
    "constraint = 'l1'\n",
    "print(\"constraint: \", constraint)\n",
    "for idx in tqdm(np.arange(num_frames)):\n",
    "\t# win = np.hamming(filterLen)\n",
    "\tspecMic = np.fft.rfft(sigMic[:, filterLen*idx:filterLen*(idx+1)], axis=1)\n",
    "\t_fs = np.fft.rfftfreq(filterLen, d=1./samplerate)\n",
    "\tk = 2 * np.pi * _fs / c\n",
    "\t# kiFilter = sf.kiFilterGenWithOpt(k, posMic, posEval, specMic, constraint, filterLen, smplShift)\n",
    "\tkiFilter = sf.kiFilterGen(k, posMic, posEval, filterLen, smplShift)\n",
    "\n",
    "\t# specMic = F x M\n",
    "\t# specKiFilter = F x M x Mest\n",
    "\tspecMic = np.fft.rfft(sigMic[:, filterLen*idx:filterLen*(idx+1)].T, n=2*filterLen, axis=0)[:,:,None]\n",
    "\tspecKiFilter = np.fft.rfft(kiFilter, n=2*filterLen, axis=0)\n",
    "\n",
    "\ttmpSpecEst = np.squeeze(specKiFilter @ specMic)\n",
    "\tassert(tmpSpecEst.shape[0] == specKiFilter.shape[0])\n",
    "\tassert(tmpSpecEst.shape[1] == specKiFilter.shape[1])\n",
    "\ttemp_sig_est = np.fft.irfft(tmpSpecEst, axis=0)#[smplShift:2*filterLen-1+smplShift, :]\n",
    "\n",
    "\t# sigEst[:, filterLen * (idx + 1) - half_width:filterLen * (idx + 1) + half_width + 1] = temp_sig_est.T\n",
    "\tsigEst[:, filterLen * (idx + 1) - half_width:filterLen * (idx + 1) + half_width + 1] += temp_sig_est[:-1, :].T\n",
    "\n",
    "\tif idx == num_frames//2:\n",
    "\t\tprint(tmpSpecEst.shape)\n",
    "\t\tprint(specMic.shape)\n",
    "\t\tprint(specKiFilter.shape)\n",
    "\t\tfig, ax = plt.subplots()\n",
    "\t\tax.plot(kiFilter[:,0,0])\n",
    "\t\tplt.xlabel('Sample')\n",
    "\t\tplt.show()\n",
    "\t\tfig, ax = plt.subplots()\n",
    "\t\tax.plot(sigEval[0,filterLen*idx:filterLen*(idx+1)], label='eval')\n",
    "\t\tax.plot(np.fft.irfft(tmpSpecEst, axis=0)[smplShift+1:, 0].T, label='est')\n",
    "\t\tplt.xlabel('Sample')\n",
    "\t\tplt.legend()\n",
    "\t\tplt.show()\n",
    "\t\n",
    "\n",
    "# sigEst = sigEst[:, filterLen-1: -(filterLen-1)]\n",
    "sigEst = sigEst[:, smplShift+1:smplShift+sigEval.shape[1]+1]\n",
    "print(sigEst.shape)\n",
    "\n"
   ],
   "outputs": [
    {
     "output_type": "stream",
     "name": "stdout",
     "text": [
      "(441, 33862)\n",
      "(441, 33862)\n",
      "(441, 34048)\n"
     ]
    },
    {
     "output_type": "display_data",
     "data": {
      "image/png": "[encoded data removed]",
      "text/plain": [
       "<Figure size 432x288 with 1 Axes>"
      ]
     },
     "metadata": {
      "needs_background": "light"
     }
    },
    {
     "output_type": "stream",
     "name": "stdout",
     "text": [
      "# of frames:  133\n",
      "constraint:  l1\n"
     ]
    },
    {
     "output_type": "stream",
     "name": "stderr",
     "text": [
      " 50%|████▉     | 66/133 [00:12<00:13,  4.88it/s]"
     ]
    },
    {
     "output_type": "stream",
     "name": "stdout",
     "text": [
      "(257, 441)\n",
      "(257, 18, 1)\n",
      "(257, 441, 18)\n"
     ]
    },
    {
     "output_type": "display_data",
     "data": {
      "image/png": "[encoded data removed]",
      "text/plain": [
       "<Figure size 432x288 with 1 Axes>"
      ]
     },
     "metadata": {
      "needs_background": "light"
     }
    },
    {
     "output_type": "display_data",
     "data": {
      "image/png": "[encoded data removed]",
      "text/plain": [
       "<Figure size 432x288 with 1 Axes>"
      ]
     },
     "metadata": {
      "needs_background": "light"
     }
    },
    {
     "output_type": "stream",
     "name": "stderr",
     "text": [
      "100%|██████████| 133/133 [00:25<00:00,  5.30it/s]"
     ]
    },
    {
     "output_type": "stream",
     "name": "stdout",
     "text": [
      "(441, 34048)\n"
     ]
    },
    {
     "output_type": "stream",
     "name": "stderr",
     "text": [
      "\n"
     ]
    }
   ],
   "metadata": {}
  },
  {
   "cell_type": "code",
   "execution_count": 45,
   "source": [
    "_max_val = max(np.absolute(sigEst[0, :]))\n",
    "_saved = (sigEst[0, :] * 32767 / _max_val).astype(np.int16)\n",
    "wf.write('./output/est_music1.wav', samplerate, _saved)"
   ],
   "outputs": [],
   "metadata": {}
  },
  {
   "cell_type": "code",
   "execution_count": 46,
   "source": [
    "# Convolution inerpolation filter\n",
    "# specMic = np.fft.fft(sigMic.T, n=fftlen, axis=0)[:,:,None]\n",
    "# specKiFilter = np.fft.fft(kiFilter, n=fftlen, axis=0)\n",
    "\n",
    "# specEst = np.squeeze(specKiFilter @ specMic)\n",
    "# print(specEst.shape)\n",
    "# sigEst = np.fft.ifft(specEst, n=fftlen, axis=0).real.T\n",
    "# sigEst = sigEst[:,smplShift:sigLen+smplShift]\n",
    "\n",
    "# Mean square error of estimation\n",
    "mse = 10*np.log10(np.sum(np.abs(sigEst - sigEval)**2) / np.sum(np.abs(sigEval)**2))\n",
    "print('MSE: ', mse)\n",
    "\n",
    "posEstXY, sigEstXY, _ = irutil.sortIR3(posEval, sigEst[None,:,:], numEvalXYZ, posEvalX, posEvalY, posEvalZ)\n",
    "sigEstXY = np.squeeze(sigEstXY)\n",
    "\n",
    "# Error distribution\n",
    "distErr = 10*np.log10(np.sum(np.abs(sigEstXY - sigEvalXY) ** 2, axis=-1) / np.sum(np.abs(sigEvalXY) ** 2, axis=-1))\n"
   ],
   "outputs": [
    {
     "output_type": "stream",
     "name": "stdout",
     "text": [
      "MSE:  -10.042339307674734\n"
     ]
    }
   ],
   "metadata": {}
  },
  {
   "cell_type": "code",
   "execution_count": 47,
   "source": [
    "# Draw pressure distribution\n",
    "\n",
    "# tIdx = 1422\n",
    "\n",
    "# plt.rcParams[\"font.size\"] = 14\n",
    "\n",
    "# fig, ax = plt.subplots()\n",
    "# ax = plt.axes()\n",
    "# color = plt.pcolor(xx, yy, sigEvalXY[:,:,tIdx], cmap='RdBu', shading='auto', vmin=-0.025, vmax=0.025)\n",
    "# ax.scatter(posMic[:,0], posMic[:,1], s=30, marker='o', color='w')\n",
    "# ax.scatter(posMic[:,0], posMic[:,1], s=20, marker='o', color='k')\n",
    "# ax.set_aspect('equal')\n",
    "# cbar=plt.colorbar(color)\n",
    "# cbar.set_label('Amplitude')\n",
    "# plt.xlabel('x (m)')\n",
    "# plt.ylabel('y (m)')\n",
    "# plt.savefig(\"reconst_true.pdf\")\n",
    "\n",
    "# fig, ax = plt.subplots()\n",
    "# ax = plt.axes()\n",
    "# color = plt.pcolor(xx, yy, sigEstXY[:,:,tIdx], cmap='RdBu', shading='auto', vmin=-0.025, vmax=0.025)\n",
    "# ax.scatter(posMic[:,0], posMic[:,1], s=30, marker='o', color='w')\n",
    "# ax.scatter(posMic[:,0], posMic[:,1], s=20, marker='o', color='k')\n",
    "# ax.set_aspect('equal')\n",
    "# cbar=plt.colorbar(color)\n",
    "# cbar.set_label('Amplitude')\n",
    "# plt.xlabel('x (m)')\n",
    "# plt.ylabel('y (m)')\n",
    "# fig.savefig(\"reconst_est.pdf\")\n",
    "\n",
    "# # Draw error distribution\n",
    "\n",
    "# fig, ax = plt.subplots()\n",
    "# ax = plt.axes()\n",
    "# color = plt.pcolor(xx, yy, distErr, cmap='magma', shading='auto', vmin=-20.0, vmax=0.0)\n",
    "# ax.scatter(posMic[:,0], posMic[:,1], s=30, marker='o', color='w')\n",
    "# ax.scatter(posMic[:,0], posMic[:,1], s=20, marker='o', color='k')\n",
    "# ax.set_aspect('equal')\n",
    "# cbar=plt.colorbar(color)\n",
    "# cbar.set_label('Error (dB)')\n",
    "# plt.xlabel('x (m)')\n",
    "# plt.ylabel('y (m)')\n",
    "# fig.savefig(\"reconst_error.pdf\")\n",
    "\n",
    "# plt.show()"
   ],
   "outputs": [],
   "metadata": {}
  },
  {
   "cell_type": "code",
   "execution_count": null,
   "source": [],
   "outputs": [],
   "metadata": {}
  }
 ],
 "metadata": {
  "interpreter": {
   "hash": "f60e1b78d6b90bda8f1193ac4579ad5def675b318c03f4c5524f558310a9090b"
  },
  "jupytext": {
   "main_language": "python"
  },
  "kernelspec": {
   "name": "python3",
   "display_name": "Python 3.7.5 64-bit ('3.7.5': pyenv)"
  },
  "language_info": {
   "codemirror_mode": {
    "name": "ipython",
    "version": 3
   },
   "file_extension": ".py",
   "mimetype": "text/x-python",
   "name": "python",
   "nbconvert_exporter": "python",
   "pygments_lexer": "ipython3",
   "version": "3.7.5"
  },
  "metadata": {
   "interpreter": {
    "hash": "996001433b7e80b41391e395c764dc4d5ed2db786be442ca87a2532242128352"
   }
  }
 },
 "nbformat": 4,
 "nbformat_minor": 2
}